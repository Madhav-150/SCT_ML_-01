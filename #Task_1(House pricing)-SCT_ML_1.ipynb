{
 "cells": [
  {
   "cell_type": "code",
   "execution_count": 4,
   "id": "759cc99c",
   "metadata": {
    "scrolled": true
   },
   "outputs": [
    {
     "name": "stdout",
     "output_type": "stream",
     "text": [
      "Model Coefficients: [  953.76489852 51335.80733028 29125.70594272]\n",
      "Intercept: 208593.6116530827\n",
      "Mean Squared Error (MSE): 5103254195.471236\n",
      "R-squared Score: 0.66072928954954\n",
      "Predicted Price for new input: 2328382.2425600444\n"
     ]
    }
   ],
   "source": [
    "import pandas as pd\n",
    "from sklearn.model_selection import train_test_split\n",
    "from sklearn.linear_model import LinearRegression\n",
    "from sklearn.metrics import mean_squared_error, r2_score\n",
    "\n",
    "# === Load your dataset ===\n",
    "# Make sure your CSV has columns like: 'square_footage', 'bedrooms', 'bathrooms', 'price'\n",
    "df = pd.read_csv('real_estate_dataset.csv')  # Replace with your CSV file path\n",
    "\n",
    "# === Select features and target ===\n",
    "# You can rename these to match the column names in your dataset\n",
    "features = ['Square_Feet', 'Num_Bedrooms', 'Num_Bathrooms']\n",
    "target = 'Price'\n",
    "\n",
    "\n",
    "# Check if all required columns are in the dataset\n",
    "# Check if all required columns are in the dataset\n",
    "if not all(col in df.columns for col in features + [target]):\n",
    "    raise ValueError(\"One or more required columns are missing from the dataset.\")\n",
    "\n",
    "X = df[features]\n",
    "y = df[target]\n",
    "\n",
    "\n",
    "X = df[features]\n",
    "y = df[target]\n",
    "\n",
    "# === Split the dataset ===\n",
    "X_train, X_test, y_train, y_test = train_test_split(X, y, test_size=0.2, random_state=42)\n",
    "\n",
    "# === Train the model ===\n",
    "model = LinearRegression()\n",
    "model.fit(X_train, y_train)\n",
    "\n",
    "# === Evaluate the model ===\n",
    "y_pred = model.predict(X_test)\n",
    "\n",
    "mse = mean_squared_error(y_test, y_pred)\n",
    "r2 = r2_score(y_test, y_pred)\n",
    "\n",
    "print(\"Model Coefficients:\", model.coef_)\n",
    "print(\"Intercept:\", model.intercept_)\n",
    "print(\"Mean Squared Error (MSE):\", mse)\n",
    "print(\"R-squared Score:\", r2)\n",
    "\n",
    "# === Predict on new data ===\n",
    "# Example input: 2000 sq ft, 3 bedrooms, 2 bathrooms\n",
    "new_data = pd.DataFrame([[2000, 3, 2]], columns=features)\n",
    "predicted_price = model.predict(new_data)\n",
    "print(\"Predicted Price for new input:\", predicted_price[0])\n"
   ]
  },
  {
   "cell_type": "code",
   "execution_count": null,
   "id": "28eec807",
   "metadata": {},
   "outputs": [],
   "source": []
  }
 ],
 "metadata": {
  "kernelspec": {
   "display_name": "Python 3 (ipykernel)",
   "language": "python",
   "name": "python3"
  },
  "language_info": {
   "codemirror_mode": {
    "name": "ipython",
    "version": 3
   },
   "file_extension": ".py",
   "mimetype": "text/x-python",
   "name": "python",
   "nbconvert_exporter": "python",
   "pygments_lexer": "ipython3",
   "version": "3.11.5"
  }
 },
 "nbformat": 4,
 "nbformat_minor": 5
}
